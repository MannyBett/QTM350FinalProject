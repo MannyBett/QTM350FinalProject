{
 "cells": [
  {
   "cell_type": "markdown",
   "id": "d611596d",
   "metadata": {},
   "source": [
    "# Data Filtering and Manipulation Notebook\n",
    "\n",
    "This notebook focuses on filtering and preparing cleaned global health data for regional analysis. It performs the following tasks:\n",
    "- Reads the cleaned data from `clean_data.csv`.\n",
    "- Converts the `date` column to an integer format for consistency.\n",
    "- Filters the data to include only the 7 major regions of interest:\n",
    "  - East Asia & Pacific\n",
    "  - Europe & Central Asia\n",
    "  - Latin America & Caribbean\n",
    "  - Middle East & North Africa\n",
    "  - North America\n",
    "  - South Asia\n",
    "  - Sub-Saharan Africa\n",
    "- Saves the filtered data to a new CSV file (`region_data.csv`) for further analysis or visualization.\n",
    "\n",
    "Use this notebook to extract and save region-specific data for deeper insights."
   ]
  },
  {
   "cell_type": "markdown",
   "id": "18ca4d4f",
   "metadata": {},
   "source": [
    "Reading and Checking the Data"
   ]
  },
  {
   "cell_type": "code",
   "execution_count": 2,
   "id": "2ac08102",
   "metadata": {},
   "outputs": [
    {
     "name": "stdout",
     "output_type": "stream",
     "text": [
      "                       country  date  life_expectancy  under5_mortality_rate  \\\n",
      "0  Africa Eastern and Southern  2023        65.146291              53.806252   \n",
      "1  Africa Eastern and Southern  2022        64.487020              56.644907   \n",
      "2  Africa Eastern and Southern  2021        62.979999              57.140506   \n",
      "3  Africa Eastern and Southern  2020        63.766484              58.911653   \n",
      "4  Africa Eastern and Southern  2019        63.857261              60.658078   \n",
      "\n",
      "   adolescent_fertility_rate  \n",
      "0                  92.305668  \n",
      "1                  93.379389  \n",
      "2                  94.659513  \n",
      "3                  95.741339  \n",
      "4                  97.189787  \n",
      "country                       object\n",
      "date                           int32\n",
      "life_expectancy              float64\n",
      "under5_mortality_rate        float64\n",
      "adolescent_fertility_rate    float64\n",
      "dtype: object\n"
     ]
    }
   ],
   "source": [
    "import pandas as pd\n",
    "\n",
    "# Read the clean_data.csv file into a DataFrame\n",
    "cleaned_df = pd.read_csv('../data/clean_data.csv')\n",
    "\n",
    "# Display the first few rows to confirm\n",
    "print(cleaned_df.head())\n",
    "\n",
    "# Convert 'date' to integer\n",
    "cleaned_df['date'] = cleaned_df['date'].astype(int)\n",
    "\n",
    "# Check\n",
    "print(cleaned_df.dtypes)"
   ]
  },
  {
   "cell_type": "markdown",
   "id": "129caeb4",
   "metadata": {},
   "source": [
    "Filtering by Regions and Saving the Filtered Data"
   ]
  },
  {
   "cell_type": "code",
   "execution_count": null,
   "id": "f68c15e4",
   "metadata": {},
   "outputs": [
    {
     "name": "stdout",
     "output_type": "stream",
     "text": [
      "['East Asia & Pacific' 'Europe & Central Asia' 'Latin America & Caribbean'\n",
      " 'Middle East & North Africa' 'North America' 'South Asia'\n",
      " 'Sub-Saharan Africa']\n",
      "region_data.csv has been saved.\n"
     ]
    }
   ],
   "source": [
    "# Define the 7 major regions you want\n",
    "regions_of_interest = [\n",
    "    'East Asia & Pacific',\n",
    "    'Europe & Central Asia',\n",
    "    'Latin America & Caribbean',\n",
    "    'Middle East & North Africa',\n",
    "    'North America',\n",
    "    'South Asia',\n",
    "    'Sub-Saharan Africa'\n",
    "]\n",
    "\n",
    "# Filter cleaned_df\n",
    "region_df = cleaned_df[cleaned_df['country'].isin(regions_of_interest)]\n",
    "\n",
    "# Check what you get\n",
    "print(region_df['country'].unique())\n",
    "region_df.head()\n",
    "\n",
    "# Save region_df as a CSV file\n",
    "region_df.to_csv('../data/region_data.csv', index=False)\n",
    "\n",
    "# Confirm the file was saved\n",
    "print(\"region_data.csv has been saved.\")"
   ]
  }
 ],
 "metadata": {
  "kernelspec": {
   "display_name": "Python 3",
   "language": "python",
   "name": "python3"
  },
  "language_info": {
   "codemirror_mode": {
    "name": "ipython",
    "version": 3
   },
   "file_extension": ".py",
   "mimetype": "text/x-python",
   "name": "python",
   "nbconvert_exporter": "python",
   "pygments_lexer": "ipython3",
   "version": "3.11.1"
  }
 },
 "nbformat": 4,
 "nbformat_minor": 5
}

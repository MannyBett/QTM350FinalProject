{
 "cells": [
  {
   "cell_type": "markdown",
   "id": "d611596d",
   "metadata": {},
   "source": [
    "# Data Filtering and Regional Analysis Notebook\n",
    "\n",
    "This notebook focuses on filtering and preparing cleaned global health data for regional analysis. It performs the following tasks:\n",
    "- Reads the cleaned data from `clean_data.csv`.\n",
    "- Converts the `date` column to an integer format for consistency.\n",
    "- Filters the data to include only the 7 major regions of interest:\n",
    "  - East Asia & Pacific\n",
    "  - Europe & Central Asia\n",
    "  - Latin America & Caribbean\n",
    "  - Middle East & North Africa\n",
    "  - North America\n",
    "  - South Asia\n",
    "  - Sub-Saharan Africa\n",
    "- Saves the filtered data to a new CSV file (`region_data.csv`) for further analysis or visualization.\n",
    "\n",
    "Use this notebook to extract and save region-specific data for deeper insights."
   ]
  },
  {
   "cell_type": "markdown",
   "id": "18ca4d4f",
   "metadata": {},
   "source": [
    "Reading and Checking the Data"
   ]
  },
  {
   "cell_type": "code",
   "execution_count": null,
   "id": "2ac08102",
   "metadata": {},
   "outputs": [],
   "source": [
    "import pandas as pd\n",
    "\n",
    "# Read the clean_data.csv file into a DataFrame\n",
    "cleaned_df = pd.read_csv('clean_data.csv')\n",
    "\n",
    "# Display the first few rows to confirm\n",
    "print(cleaned_df.head())\n",
    "\n",
    "# Convert 'date' to integer\n",
    "cleaned_df['date'] = cleaned_df['date'].astype(int)\n",
    "\n",
    "# Check\n",
    "print(cleaned_df.dtypes)"
   ]
  },
  {
   "cell_type": "markdown",
   "id": "129caeb4",
   "metadata": {},
   "source": [
    "Filtering by Regions and Saving the Filtered Data"
   ]
  },
  {
   "cell_type": "code",
   "execution_count": null,
   "id": "f68c15e4",
   "metadata": {},
   "outputs": [],
   "source": [
    "# Define the 7 major regions you want\n",
    "regions_of_interest = [\n",
    "    'East Asia & Pacific',\n",
    "    'Europe & Central Asia',\n",
    "    'Latin America & Caribbean',\n",
    "    'Middle East & North Africa',\n",
    "    'North America',\n",
    "    'South Asia',\n",
    "    'Sub-Saharan Africa'\n",
    "]\n",
    "\n",
    "# Filter cleaned_df\n",
    "region_df = cleaned_df[cleaned_df['country'].isin(regions_of_interest)]\n",
    "\n",
    "# Check what you get\n",
    "print(region_df['country'].unique())\n",
    "region_df.head()\n",
    "\n",
    "# Save region_df as a CSV file\n",
    "region_df.to_csv('region_data.csv', index=False)\n",
    "\n",
    "# Confirm the file was saved\n",
    "print(\"region_data.csv has been saved.\")"
   ]
  }
 ],
 "metadata": {
  "kernelspec": {
   "display_name": "Python 3",
   "language": "python",
   "name": "python3"
  },
  "language_info": {
   "name": "python",
   "version": "3.11.1"
  }
 },
 "nbformat": 4,
 "nbformat_minor": 5
}

{
 "cells": [
  {
   "cell_type": "markdown",
   "id": "81bade08",
   "metadata": {},
   "source": [
    "## SQL IPYNB\n",
    "\n",
    "# This notebook is a SQL notebook that can be run in Jupyter Notebook or JupyterLab.\n",
    "# It will be used to queury the columns for our project."
   ]
  },
  {
   "cell_type": "code",
   "execution_count": null,
   "id": "f03836c3",
   "metadata": {},
   "outputs": [],
   "source": []
  }
 ],
 "metadata": {
  "kernelspec": {
   "display_name": "Python 3",
   "language": "python",
   "name": "python3"
  },
  "language_info": {
   "name": "python",
   "version": "3.11.1"
  }
 },
 "nbformat": 4,
 "nbformat_minor": 5
}
